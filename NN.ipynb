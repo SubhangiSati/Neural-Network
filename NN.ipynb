{
  "nbformat": 4,
  "nbformat_minor": 0,
  "metadata": {
    "colab": {
      "provenance": []
    },
    "kernelspec": {
      "name": "python3",
      "display_name": "Python 3"
    },
    "language_info": {
      "name": "python"
    }
  },
  "cells": [
    {
      "cell_type": "code",
      "execution_count": null,
      "metadata": {
        "id": "ghA4IME9GimK"
      },
      "outputs": [],
      "source": [
        "import numpy as np\n",
        "import pandas as pd\n",
        "from sklearn.model_selection import train_test_split\n",
        "from sklearn.preprocessing import StandardScaler\n",
        "from sklearn.metrics import accuracy_score\n",
        "import matplotlib.pyplot as plt"
      ]
    },
    {
      "cell_type": "code",
      "source": [
        "# loadind the stroke Prediction dataset\n",
        "# replace 'stroke_data.csv' with actual file path of your dataset\n",
        "stroke_data = pd.read_csv('/content/healthcare-dataset-stroke-data.csv')"
      ],
      "metadata": {
        "id": "M_iwmDVaG8Fi"
      },
      "execution_count": null,
      "outputs": []
    },
    {
      "cell_type": "code",
      "source": [
        "# preprocessing the data (using 'id' column and handling missing values)\n",
        "stroke_data = stroke_data.drop('id',axis=1)\n",
        "stroke_data = stroke_data.dropna()\n"
      ],
      "metadata": {
        "id": "pjgsKrm1HOC3"
      },
      "execution_count": null,
      "outputs": []
    },
    {
      "cell_type": "code",
      "source": [
        "# convert categorical variables to one-hot encoding\n",
        "stroke_data = pd.get_dummies(stroke_data, columns = ['gender', 'ever_married', 'work_type', 'Residence_type', 'smoking_status'])\n",
        "\n",
        "# Extract features and labels\n",
        "x = stroke_data.drop('stroke', axis = 1).values\n",
        "y = stroke_data['stroke'].values.reshape(-1,1)"
      ],
      "metadata": {
        "id": "sPE4DGxTJPAA"
      },
      "execution_count": null,
      "outputs": []
    },
    {
      "cell_type": "code",
      "source": [
        "#normalize the data\n",
        "scaler = StandardScaler()\n",
        "x = scaler.fit_transform(x)\n",
        "\n",
        "#split the data to training and test\n",
        "x_train, x_test, y_train, y_test = train_test_split(x, y, test_size=0.2, random_state = 42)\n"
      ],
      "metadata": {
        "id": "TZQf0C88J4gA"
      },
      "execution_count": null,
      "outputs": []
    },
    {
      "cell_type": "code",
      "source": [
        "# defining our neural network\n",
        "class NeuralNetwork:\n",
        "  def __init__(self, input_size, hidden_size, output_size):\n",
        "    self.input_size = input_size\n",
        "    self.hidden_size = hidden_size\n",
        "    self.output_size = output_size\n",
        "\n",
        "    #initializing weights and bias\n",
        "    self.weights_input_hidden = np.random.randn(self.input_size,self.hidden_size)\n",
        "    self.bias_hidden = np.zeros([1,self.hidden_size])\n",
        "    self.weights_hidden_output = np.random.randn(self.hidden_size,self.output_size)\n",
        "    self.bias_output = np.zeros([1,self.output_size])\n",
        "  def sigmoid(self, x):\n",
        "    return 1 / ( 1 + np.exp(-x))\n",
        "  def sigmoid_derivative(self, x):\n",
        "    return x * ( 1 - x )\n",
        "  def forward(self, x):\n",
        "    #Input hidden layer\n",
        "    self.hidden_input = np.dot(x, self.weights_input_hidden) + self.bias_hidden\n",
        "    self.hidden_output = self.sigmoid(self.hidden_input)\n",
        "\n",
        "    #Input output layer\n",
        "    self.final_input = np.dot(self.hidden_output, self.weights_hidden_output) + self.bias_output\n",
        "    self.final_output = self.sigmoid(self.final_input)\n",
        "\n",
        "    return self.final_output\n",
        "\n",
        "  def backward(self, x, y, output, learning_rate=0.01):\n",
        "    loss = y - output\n",
        "\n",
        "    #output layer\n",
        "    output_error = loss * self.sigmoid_derivative(output)\n",
        "    d_weights_hidden_output = np.dot(self.hidden_output.T, output_error)\n",
        "    d_bias_output = np.sum(output_error, axis = 0, keepdims=True)\n",
        "\n",
        "    #hidden layer\n",
        "    hidden_error = np.dot(output_error, self.weights_hidden_output.T) * self.sigmoid_derivative(self.hidden_output)\n",
        "    d_weights_input_hidden = np.dot(x.T, hidden_error)\n",
        "    d_bias_hidden =  np.sum(hidden_error, axis = 0, keepdims=True)\n",
        "\n",
        "    # update the weights and bias\n",
        "    self.weights_input_hidden += learning_rate * d_weights_input_hidden\n",
        "    self.bias_hidden += learning_rate * d_bias_hidden\n",
        "    self.weights_hidden_output += learning_rate * d_weights_hidden_output\n",
        "    self.bias_output += learning_rate * d_bias_output\n",
        "\n",
        "  def train(self, x, y, epochs = 1000):\n",
        "    losses = [] # store training losses\n",
        "    for epoch in range(epochs):\n",
        "      # forward pass\n",
        "      output = self.forward(x)\n",
        "\n",
        "      # backward pass\n",
        "      self.backward(x, y, output)\n",
        "\n",
        "      # calculating and storing losses\n",
        "      loss = np.mean(np.abs(y - output))\n",
        "      losses.append(loss)\n",
        "\n",
        "      if epoch % 100 == 0:\n",
        "       print('Epoch {}/{}, Training Loss: {:.3f}'.format(epoch, epochs, loss))\n",
        "    plt.plot(losses)\n",
        "    plt.title('All Training losses')\n",
        "    plt.xlabel('Epoch')\n",
        "    plt.ylabel('Loss')\n",
        "    plt.show()\n"
      ],
      "metadata": {
        "id": "4NIrC2w7KEF8"
      },
      "execution_count": null,
      "outputs": []
    },
    {
      "cell_type": "code",
      "source": [
        "# initializing the neural network\n",
        "input_size = x_train.shape[1]\n",
        "hidden_size = 8\n",
        "output_size = 1\n",
        "nn = NeuralNetwork(input_size, hidden_size, output_size)\n",
        "\n",
        "# train the neural network\n",
        "nn.train(x_train, y_train, epochs = 1000)\n",
        "\n",
        "# test the neural network\n",
        "test_output = nn.forward(x_test)\n",
        "test_prediction = (test_output > 0.5).astype(int)\n",
        "\n",
        "# evaluate perfromance metrics\n",
        "accuracy = accuracy_score(y_test, test_prediction)\n",
        "print('Test Accuracy: {:.3f}'.format(accuracy))\n"
      ],
      "metadata": {
        "colab": {
          "base_uri": "https://localhost:8080/",
          "height": 667
        },
        "id": "ZE0Qec4LPbBd",
        "outputId": "cc503896-08ce-4a5d-9470-8ec3782570e7"
      },
      "execution_count": null,
      "outputs": [
        {
          "output_type": "stream",
          "name": "stdout",
          "text": [
            "Epoch 0/1000, Training Loss: 0.152\n",
            "Epoch 100/1000, Training Loss: 0.072\n",
            "Epoch 200/1000, Training Loss: 0.070\n",
            "Epoch 300/1000, Training Loss: 0.068\n",
            "Epoch 400/1000, Training Loss: 0.066\n",
            "Epoch 500/1000, Training Loss: 0.065\n",
            "Epoch 600/1000, Training Loss: 0.064\n",
            "Epoch 700/1000, Training Loss: 0.063\n",
            "Epoch 800/1000, Training Loss: 0.062\n",
            "Epoch 900/1000, Training Loss: 0.061\n"
          ]
        },
        {
          "output_type": "display_data",
          "data": {
            "text/plain": [
              "<Figure size 640x480 with 1 Axes>"
            ],
            "image/png": "[encoded data removed]"
          },
          "metadata": {}
        },
        {
          "output_type": "stream",
          "name": "stdout",
          "text": [
            "Test Accuracy: 0.943\n"
          ]
        }
      ]
    },
    {
      "cell_type": "code",
      "source": [],
      "metadata": {
        "id": "UG6OJbOwP4AQ"
      },
      "execution_count": null,
      "outputs": []
    }
  ]
}